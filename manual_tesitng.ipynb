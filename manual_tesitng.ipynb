{
 "cells": [
  {
   "cell_type": "markdown",
   "id": "d50b6580",
   "metadata": {},
   "source": [
    "Este notebook fue hecho para prueba y testeo manual (no automatizado) del programa."
   ]
  },
  {
   "cell_type": "code",
   "execution_count": 14,
   "id": "10868c64",
   "metadata": {},
   "outputs": [],
   "source": [
    "# Testing\n",
    "import numpy as np\n",
    "\n",
    "def calculate(list):\n",
    "    if len(list) != 9:\n",
    "        raise ValueError(\"List must contain nine numbers.\")\n",
    "    \n",
    "    matrix = np.array(list).reshape(3, 3)\n",
    "    \n",
    "    # Calculations for rows (axis=0), columns (axis=1), and flattened\n",
    "    calculations = {\n",
    "        'mean': [\n",
    "            np.mean(matrix, axis=0).tolist(),  # Rows\n",
    "            np.mean(matrix, axis=1).tolist(),  # Columns\n",
    "            np.mean(matrix)                   # Flattened\n",
    "        ],\n",
    "        'variance': [\n",
    "            np.var(matrix, axis=0).tolist(),   # Rows\n",
    "            np.var(matrix, axis=1).tolist(),   # Columns\n",
    "            np.var(matrix)                     # Flattened\n",
    "        ],\n",
    "        'standard deviation': [\n",
    "            np.std(matrix, axis=0).tolist(),   # Rows\n",
    "            np.std(matrix, axis=1).tolist(),   # Columns\n",
    "            np.std(matrix)                     # Flattened\n",
    "        ],\n",
    "        'max': [\n",
    "            np.max(matrix, axis=0).tolist(),   # Rows\n",
    "            np.max(matrix, axis=1).tolist(),   # Columns\n",
    "            np.max(matrix)                     # Flattened\n",
    "        ],\n",
    "        'min': [\n",
    "            np.min(matrix, axis=0).tolist(),   # Rows\n",
    "            np.min(matrix, axis=1).tolist(),   # Columns\n",
    "            np.min(matrix)                     # Flattened\n",
    "        ],\n",
    "        'sum': [\n",
    "            np.sum(matrix, axis=0).tolist(),   # Rows\n",
    "            np.sum(matrix, axis=1).tolist(),   # Columns\n",
    "            np.sum(matrix)                    # Flattened\n",
    "        ]\n",
    "    }\n",
    "    \n",
    "    return calculations"
   ]
  },
  {
   "cell_type": "code",
   "execution_count": 15,
   "id": "0a60bfbe",
   "metadata": {},
   "outputs": [
    {
     "data": {
      "text/plain": [
       "{'mean': [[3.6666666666666665, 5.0, 3.0],\n",
       "  [3.3333333333333335, 4.0, 4.333333333333333],\n",
       "  np.float64(3.888888888888889)],\n",
       " 'variance': [[9.555555555555557, 0.6666666666666666, 8.666666666666666],\n",
       "  [3.555555555555556, 10.666666666666666, 6.222222222222221],\n",
       "  np.float64(6.987654320987654)],\n",
       " 'standard deviation': [[3.091206165165235,\n",
       "   0.816496580927726,\n",
       "   2.943920288775949],\n",
       "  [1.8856180831641267, 3.265986323710904, 2.494438257849294],\n",
       "  np.float64(2.6434171674156266)],\n",
       " 'max': [[8, 6, 7], [6, 8, 7], np.int64(8)],\n",
       " 'min': [[1, 4, 0], [2, 0, 1], np.int64(0)],\n",
       " 'sum': [[11, 15, 9], [10, 12, 13], np.int64(35)]}"
      ]
     },
     "execution_count": 15,
     "metadata": {},
     "output_type": "execute_result"
    }
   ],
   "source": [
    "a = calculate([2,6,2,8,4,0,1,5,7])\n",
    "a"
   ]
  },
  {
   "cell_type": "code",
   "execution_count": 17,
   "id": "8f3b690b",
   "metadata": {},
   "outputs": [],
   "source": [
    "import unittest"
   ]
  },
  {
   "cell_type": "code",
   "execution_count": 18,
   "id": "fcd18580",
   "metadata": {},
   "outputs": [],
   "source": [
    "class UnitTests(unittest.TestCase):\n",
    "    def test_calculate(self):\n",
    "        actual = calculate([2,6,2,8,4,0,1,5,7])\n",
    "        expected = {'mean': [[3.6666666666666665, 5.0, 3.0], [3.3333333333333335, 4.0, 4.333333333333333], 3.888888888888889], 'variance': [[9.555555555555557, 0.6666666666666666, 8.666666666666666], [3.555555555555556, 10.666666666666666, 6.222222222222221], 6.987654320987654], 'standard deviation': [[3.091206165165235, 0.816496580927726, 2.943920288775949], [1.8856180831641267, 3.265986323710904, 2.494438257849294], 2.6434171674156266], 'max': [[8, 6, 7], [6, 8, 7], 8], 'min': [[1, 4, 0], [2, 0, 1], 0], 'sum': [[11, 15, 9], [10, 12, 13], 35]}\n",
    "        self.assertAlmostEqual(actual, expected, \"Expected different output when calling 'calculate()' with '[2,6,2,8,4,0,1,5,7]'\")\n",
    "\n",
    "    def test_calculate2(self):\n",
    "        actual = calculate([9,1,5,3,3,3,2,9,0])\n",
    "        expected = {'mean': [[4.666666666666667, 4.333333333333333, 2.6666666666666665], [5.0, 3.0, 3.6666666666666665], 3.888888888888889], 'variance': [[9.555555555555555, 11.555555555555557, 4.222222222222222], [10.666666666666666, 0.0, 14.888888888888891], 9.209876543209875], 'standard deviation': [[3.0912061651652345, 3.39934634239519, 2.0548046676563256], [3.265986323710904, 0.0, 3.8586123009300755], 3.0347778408328137], 'max': [[9, 9, 5], [9, 3, 9], 9], 'min': [[2, 1, 0], [1, 3, 0], 0], 'sum': [[14, 13, 8], [15, 9, 11], 35]}\n",
    "        self.assertAlmostEqual(actual, expected, \"Expected different output when calling 'calculate()' with '[9,1,5,3,3,3,2,9,0]'\")\n",
    "    \n",
    "    def test_calculate_with_few_digits(self):\n",
    "        self.assertRaisesRegex(ValueError, \"List must contain nine numbers.\", calculate, [2,6,2,8,4,0,1,])"
   ]
  }
 ],
 "metadata": {
  "kernelspec": {
   "display_name": "Python 3",
   "language": "python",
   "name": "python3"
  },
  "language_info": {
   "codemirror_mode": {
    "name": "ipython",
    "version": 3
   },
   "file_extension": ".py",
   "mimetype": "text/x-python",
   "name": "python",
   "nbconvert_exporter": "python",
   "pygments_lexer": "ipython3",
   "version": "3.12.1"
  }
 },
 "nbformat": 4,
 "nbformat_minor": 5
}
